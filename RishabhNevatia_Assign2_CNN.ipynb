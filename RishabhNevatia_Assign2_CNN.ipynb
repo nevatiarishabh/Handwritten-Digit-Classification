{
 "cells": [
  {
   "cell_type": "code",
   "execution_count": 1,
   "metadata": {},
   "outputs": [],
   "source": [
    "# Importing libraries\n",
    "import tensorflow as tf\n",
    "from keras.preprocessing.image import ImageDataGenerator\n",
    "\n",
    "import numpy as np"
   ]
  },
  {
   "cell_type": "code",
   "execution_count": 2,
   "metadata": {},
   "outputs": [
    {
     "name": "stdout",
     "output_type": "stream",
     "text": [
      "Found 42000 images belonging to 10 classes.\n"
     ]
    }
   ],
   "source": [
    "# Defining train_datagen and taining_set  \n",
    "train_datagen = ImageDataGenerator(rescale = 1./255,\n",
    "                                   shear_range = 0.2,\n",
    "                                   zoom_range = 0.2,\n",
    "                                   horizontal_flip = True)\n",
    "training_set = train_datagen.flow_from_directory('trainingSet/trainingSet',\n",
    "                                                 target_size = (64, 64),\n",
    "                                                 batch_size = 32,\n",
    "                                                 class_mode = 'categorical')\n"
   ]
  },
  {
   "cell_type": "code",
   "execution_count": 3,
   "metadata": {},
   "outputs": [
    {
     "name": "stdout",
     "output_type": "stream",
     "text": [
      "Found 28000 images belonging to 1 classes.\n"
     ]
    }
   ],
   "source": [
    "# Defining test_datagen and tain_set\n",
    "test_datagen = ImageDataGenerator(rescale = 1./255)\n",
    "test_set = test_datagen.flow_from_directory('testSet',\n",
    "                                            target_size = (64, 64),\n",
    "                                            batch_size = 32,\n",
    "                                            class_mode = 'input')\n",
    "\n"
   ]
  },
  {
   "cell_type": "code",
   "execution_count": 4,
   "metadata": {},
   "outputs": [],
   "source": [
    "## Building the CNN\n",
    "\n",
    "### Initialising the CNN\n",
    "\n",
    "cnn = tf.keras.models.Sequential()\n",
    "\n",
    "### Step 1 - Convolution\n",
    "\n",
    "cnn.add(tf.keras.layers.Conv2D(filters=32, kernel_size=3, activation='relu', input_shape=[64, 64, 3]))\n",
    "\n",
    "### Step 2 - Pooling\n",
    "\n",
    "cnn.add(tf.keras.layers.MaxPool2D(pool_size=2, strides=2))\n",
    "\n",
    "### Adding a second convolutional layer\n",
    "\n",
    "cnn.add(tf.keras.layers.Conv2D(filters=32, kernel_size=3, activation='relu'))\n",
    "cnn.add(tf.keras.layers.MaxPool2D(pool_size=2, strides=2))\n",
    "\n",
    "### Step 3 - Flattening\n",
    "\n",
    "cnn.add(tf.keras.layers.Flatten())\n",
    "\n",
    "### Step 4 - Full Connection\n",
    "\n",
    "cnn.add(tf.keras.layers.Dense(units=128, activation='relu'))\n",
    "\n",
    "### Step 5 - Output Layer\n",
    "\n",
    "cnn.add(tf.keras.layers.Dense(units=10, activation='softmax'))"
   ]
  },
  {
   "cell_type": "code",
   "execution_count": 5,
   "metadata": {},
   "outputs": [
    {
     "name": "stdout",
     "output_type": "stream",
     "text": [
      "Epoch 1/10\n",
      "1313/1313 [==============================] - 153s 116ms/step - loss: 0.2747 - accuracy: 0.9110\n",
      "Epoch 2/10\n",
      "1313/1313 [==============================] - 187s 142ms/step - loss: 0.1069 - accuracy: 0.9672\n",
      "Epoch 3/10\n",
      "1313/1313 [==============================] - 200s 153ms/step - loss: 0.0786 - accuracy: 0.9752\n",
      "Epoch 4/10\n",
      "1313/1313 [==============================] - 210s 160ms/step - loss: 0.0638 - accuracy: 0.9800\n",
      "Epoch 5/10\n",
      "1313/1313 [==============================] - 220s 168ms/step - loss: 0.0554 - accuracy: 0.9824\n",
      "Epoch 6/10\n",
      "1313/1313 [==============================] - 178s 136ms/step - loss: 0.0493 - accuracy: 0.9841\n",
      "Epoch 7/10\n",
      "1313/1313 [==============================] - 175s 133ms/step - loss: 0.0440 - accuracy: 0.9858\n",
      "Epoch 8/10\n",
      "1313/1313 [==============================] - 172s 131ms/step - loss: 0.0395 - accuracy: 0.9876\n",
      "Epoch 9/10\n",
      "1313/1313 [==============================] - 188s 143ms/step - loss: 0.0365 - accuracy: 0.9881\n",
      "Epoch 10/10\n",
      "1313/1313 [==============================] - 184s 140ms/step - loss: 0.0315 - accuracy: 0.9902\n"
     ]
    },
    {
     "data": {
      "text/plain": [
       "<tensorflow.python.keras.callbacks.History at 0x7fd4d74f7dd0>"
      ]
     },
     "execution_count": 5,
     "metadata": {},
     "output_type": "execute_result"
    }
   ],
   "source": [
    "## Training the CNN\n",
    "\n",
    "### Compiling the CNN\n",
    "\n",
    "cnn.compile(optimizer = 'adam', loss = 'categorical_crossentropy', metrics = ['accuracy'])\n",
    "\n",
    "### Training the CNN on the Training set and evaluating it on the Test set\n",
    "\n",
    "cnn.fit(x = training_set, epochs = 10)"
   ]
  },
  {
   "cell_type": "code",
   "execution_count": 6,
   "metadata": {},
   "outputs": [
    {
     "name": "stdout",
     "output_type": "stream",
     "text": [
      "3\n"
     ]
    }
   ],
   "source": [
    "# Loading test_image to test the dataset \n",
    "import numpy as np\n",
    "from PIL import Image\n",
    "from keras.preprocessing import image\n",
    "test_image = image.load_img('testSet/testSet/img_10.jpg', target_size = (64, 64))\n",
    "test_image = image.img_to_array(test_image)\n",
    "test_image = np.expand_dims(test_image, axis = 0)\n",
    "result = cnn.predict(test_image)\n",
    "\n",
    "#test_image\n",
    "#test_image.show()\n",
    "\n",
    "training_set.class_indices\n",
    "\n",
    "if result[0][0] == 1:\n",
    "    prediction = 0\n",
    "elif result[0][1] == 1:\n",
    "    prediction = 1\n",
    "elif result[0][2] == 1:\n",
    "    prediction = 2\n",
    "elif result[0][3] == 1:\n",
    "    prediction = 3\n",
    "elif result[0][4] == 1:\n",
    "    prediction = 4\n",
    "elif result[0][5] == 1:\n",
    "    prediction = 5\n",
    "elif result[0][6] == 1:\n",
    "    prediction = 6\n",
    "elif result[0][7] == 1:\n",
    "    prediction = 7\n",
    "elif result[0][8] == 1:\n",
    "    prediction = 8\n",
    "elif result[0][9] == 1:\n",
    "    prediction = 9\n",
    "\n",
    "print(prediction)"
   ]
  },
  {
   "cell_type": "markdown",
   "metadata": {},
   "source": [
    "# We get an accuracy of 99.02 which shows that the CNN model classifies the digits correctly "
   ]
  },
  {
   "cell_type": "code",
   "execution_count": null,
   "metadata": {},
   "outputs": [],
   "source": []
  }
 ],
 "metadata": {
  "kernelspec": {
   "display_name": "Python 3",
   "language": "python",
   "name": "python3"
  },
  "language_info": {
   "codemirror_mode": {
    "name": "ipython",
    "version": 3
   },
   "file_extension": ".py",
   "mimetype": "text/x-python",
   "name": "python",
   "nbconvert_exporter": "python",
   "pygments_lexer": "ipython3",
   "version": "3.7.4"
  }
 },
 "nbformat": 4,
 "nbformat_minor": 4
}
